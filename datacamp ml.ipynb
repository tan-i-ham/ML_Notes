{
 "cells": [
  {
   "cell_type": "markdown",
   "metadata": {},
   "source": [
    "## [Kaggle Python Tutorial on Machine Learning](https://www.datacamp.com/community/open-courses/kaggle-python-tutorial-on-machine-learning)"
   ]
  },
  {
   "cell_type": "code",
   "execution_count": 2,
   "metadata": {},
   "outputs": [
    {
     "name": "stderr",
     "output_type": "stream",
     "text": [
      "/Users/tp6han/anaconda/lib/python2.7/site-packages/sklearn/cross_validation.py:41: DeprecationWarning: This module was deprecated in version 0.18 in favor of the model_selection module into which all the refactored classes and functions are moved. Also note that the interface of the new CV iterators are different from that of this module. This module will be removed in 0.20.\n",
      "  \"This module will be removed in 0.20.\", DeprecationWarning)\n",
      "/Users/tp6han/anaconda/lib/python2.7/site-packages/sklearn/grid_search.py:42: DeprecationWarning: This module was deprecated in version 0.18 in favor of the model_selection module into which all the refactored classes and functions are moved. This module will be removed in 0.20.\n",
      "  DeprecationWarning)\n"
     ]
    }
   ],
   "source": [
    "from __future__ import division\n",
    "import csv as csv\n",
    "import numpy as np\n",
    "import pandas as pd\n",
    "\n",
    "from sklearn.ensemble import RandomForestClassifier\n",
    "from sklearn.pipeline import Pipeline\n",
    "from sklearn.linear_model import LogisticRegression\n",
    "from sklearn.grid_search import GridSearchCV\n",
    "from sklearn.preprocessing import LabelEncoder, LabelBinarizer\n",
    "import sklearn.tree as tree\n",
    "\n",
    "# import the pyplot module from matplotlib\n",
    "import matplotlib.pyplot as plt\n",
    "\n",
    "# matplotlib plots inline  \n",
    "%matplotlib inline\n"
   ]
  },
  {
   "cell_type": "code",
   "execution_count": 17,
   "metadata": {},
   "outputs": [
    {
     "data": {
      "text/plain": [
       "569741"
      ]
     },
     "execution_count": 17,
     "metadata": {},
     "output_type": "execute_result"
    }
   ],
   "source": [
    "df = pd.read_csv(\"01.2011_Census_Microdata.csv\", index_col = 0)\n",
    "len(df)"
   ]
  },
  {
   "cell_type": "markdown",
   "metadata": {},
   "source": [
    "## delete health == -9 "
   ]
  },
  {
   "cell_type": "code",
   "execution_count": 18,
   "metadata": {
    "collapsed": true
   },
   "outputs": [],
   "source": [
    "df = df[df['Health'] != -9]\n",
    "df = df.drop('Residence Type',axis=1)\n",
    "\n",
    "# len(df)\n",
    "#a"
   ]
  },
  {
   "cell_type": "markdown",
   "metadata": {},
   "source": [
    "與健康相關的程度 相關係數\n",
    "Before getting into any machine learning models, it can be useful to see **how each of the variables is correlated with the target variable** in this case is health"
   ]
  },
  {
   "cell_type": "code",
   "execution_count": 23,
   "metadata": {},
   "outputs": [
    {
     "name": "stdout",
     "output_type": "stream",
     "text": [
      "Family Composition          -0.105751\n",
      "Population Base             -0.022562\n",
      "Sex                          0.032471\n",
      "Age                          0.489097\n",
      "Marital Status               0.345726\n",
      "Student                      0.278079\n",
      "Country of Birth            -0.009737\n",
      "Health                       1.000000\n",
      "Ethnic Group                -0.049499\n",
      "Religion                     0.031437\n",
      "Economic Activity            0.391788\n",
      "Occupation                   0.255726\n",
      "Industry                     0.179633\n",
      "Hours worked per week       -0.170231\n",
      "Approximated Social Grade    0.287722\n",
      "Name: Health, dtype: float64\n"
     ]
    },
    {
     "data": {
      "text/plain": [
       "[-0.17023061452366475,\n",
       " -0.10575084357725184,\n",
       " -0.049498876780356915,\n",
       " -0.022561967352806023,\n",
       " -0.0097365431606553279,\n",
       " 0.03143748501366847,\n",
       " 0.03247127088574036,\n",
       " 0.17963256773061054,\n",
       " 0.25572621297062903,\n",
       " 0.27807926891000845,\n",
       " 0.28772168920720936,\n",
       " 0.34572602082106252,\n",
       " 0.39178787389976855,\n",
       " 0.48909718522302414,\n",
       " 1.0]"
      ]
     },
     "execution_count": 23,
     "metadata": {},
     "output_type": "execute_result"
    }
   ],
   "source": [
    "print(df.corr()['Health'])\n",
    "sorted(df.corr()['Health'])"
   ]
  },
  {
   "cell_type": "markdown",
   "metadata": {},
   "source": [
    "將df 資料數量分割"
   ]
  },
  {
   "cell_type": "code",
   "execution_count": 6,
   "metadata": {
    "collapsed": true
   },
   "outputs": [],
   "source": [
    "a = int((len(df)+1)*1/2)"
   ]
  },
  {
   "cell_type": "code",
   "execution_count": 7,
   "metadata": {},
   "outputs": [
    {
     "data": {
      "text/plain": [
       "Region                         object\n",
       "Family Composition              int64\n",
       "Population Base                 int64\n",
       "Sex                             int64\n",
       "Age                             int64\n",
       "Marital Status                  int64\n",
       "Student                         int64\n",
       "Country of Birth                int64\n",
       "Health                       category\n",
       "Ethnic Group                    int64\n",
       "Religion                        int64\n",
       "Economic Activity               int64\n",
       "Occupation                      int64\n",
       "Industry                        int64\n",
       "Hours worked per week           int64\n",
       "Approximated Social Grade       int64\n",
       "dtype: object"
      ]
     },
     "execution_count": 7,
     "metadata": {},
     "output_type": "execute_result"
    }
   ],
   "source": [
    "df['Health'] = df['Health'].astype('category')\n",
    "df.dtypes"
   ]
  },
  {
   "cell_type": "markdown",
   "metadata": {},
   "source": [
    "## 將原資料分成訓練集與測試集"
   ]
  },
  {
   "cell_type": "code",
   "execution_count": 8,
   "metadata": {},
   "outputs": [
    {
     "data": {
      "text/plain": [
       "Region                         object\n",
       "Family Composition              int64\n",
       "Population Base                 int64\n",
       "Sex                             int64\n",
       "Age                             int64\n",
       "Marital Status                  int64\n",
       "Student                         int64\n",
       "Country of Birth                int64\n",
       "Health                       category\n",
       "Ethnic Group                    int64\n",
       "Religion                        int64\n",
       "Economic Activity               int64\n",
       "Occupation                      int64\n",
       "Industry                        int64\n",
       "Hours worked per week           int64\n",
       "Approximated Social Grade       int64\n",
       "dtype: object"
      ]
     },
     "execution_count": 8,
     "metadata": {},
     "output_type": "execute_result"
    }
   ],
   "source": [
    "train = df[:a]\n",
    "test = df[a:]\n",
    "# train.shape\n",
    "train.dtypes"
   ]
  },
  {
   "cell_type": "code",
   "execution_count": 9,
   "metadata": {},
   "outputs": [
    {
     "data": {
      "text/plain": [
       "(281468, 16)"
      ]
     },
     "execution_count": 9,
     "metadata": {},
     "output_type": "execute_result"
    }
   ],
   "source": [
    "test.shape"
   ]
  },
  {
   "cell_type": "code",
   "execution_count": 10,
   "metadata": {},
   "outputs": [
    {
     "name": "stdout",
     "output_type": "stream",
     "text": [
      "1    132261\n",
      "2     97917\n",
      "3     36966\n",
      "4     11225\n",
      "5      3100\n",
      "Name: Health, dtype: int64\n",
      "1    0.469895\n",
      "2    0.347878\n",
      "3    0.131332\n",
      "4    0.039880\n",
      "5    0.011014\n",
      "Name: Health, dtype: float64\n",
      "1    0.484294\n",
      "2    0.342933\n",
      "3    0.124135\n",
      "4    0.037943\n",
      "5    0.010695\n",
      "Name: Health, dtype: float64\n",
      "1    0.455932\n",
      "2    0.352674\n",
      "3    0.138312\n",
      "4    0.041758\n",
      "5    0.011323\n",
      "Name: Health, dtype: float64\n"
     ]
    },
    {
     "data": {
      "text/plain": [
       "Person ID\n",
       "7394816    2\n",
       "7394745    1\n",
       "7395066    1\n",
       "7395329    2\n",
       "7394712    1\n",
       "Name: Health, dtype: category\n",
       "Categories (5, int64): [1, 2, 3, 4, 5]"
      ]
     },
     "execution_count": 10,
     "metadata": {},
     "output_type": "execute_result"
    }
   ],
   "source": [
    "print(train[\"Health\"].value_counts())\n",
    "print(train[\"Health\"].value_counts(normalize = True))\n",
    "# male\n",
    "print(train[\"Health\"][train[\"Sex\"] == 1].value_counts(normalize = True))\n",
    "# female\n",
    "print(train[\"Health\"][train[\"Sex\"] == 2].value_counts(normalize = True))\n",
    "train['Health'].head()"
   ]
  },
  {
   "cell_type": "code",
   "execution_count": 12,
   "metadata": {},
   "outputs": [
    {
     "data": {
      "image/png": "[encoded data removed]",
      "text/plain": [
       "<matplotlib.figure.Figure at 0x119adccd0>"
      ]
     },
     "metadata": {},
     "output_type": "display_data"
    }
   ],
   "source": [
    "plt.hist(df['Health'])\n",
    "plt.xlabel('Health')\n",
    "plt.title('Distribution of Health')\n",
    "\n",
    "plt.show()"
   ]
  },
  {
   "cell_type": "code",
   "execution_count": 13,
   "metadata": {},
   "outputs": [
    {
     "data": {
      "text/plain": [
       "[2, 1, 1, 2, 1, ..., 1, 2, 2, 5, 1]\n",
       "Length: 281469\n",
       "Categories (5, int64): [1, 2, 3, 4, 5]"
      ]
     },
     "execution_count": 13,
     "metadata": {},
     "output_type": "execute_result"
    }
   ],
   "source": [
    "target = train['Health'].values\n",
    "targetdf.corr()['W']"
   ]
  },
  {
   "cell_type": "code",
   "execution_count": 15,
   "metadata": {},
   "outputs": [
    {
     "data": {
      "text/plain": [
       "Family Composition          -0.020612\n",
       "Population Base              0.014425\n",
       "Sex                         -0.001459\n",
       "Age                         -0.010025\n",
       "Marital Status               0.010314\n",
       "Student                     -0.028547\n",
       "Country of Birth             0.160429\n",
       "Ethnic Group                 0.289186\n",
       "Religion                     1.000000\n",
       "Economic Activity           -0.004991\n",
       "Occupation                  -0.058594\n",
       "Industry                    -0.060876\n",
       "Hours worked per week       -0.046989\n",
       "Approximated Social Grade   -0.027050\n",
       "Name: Religion, dtype: float64"
      ]
     },
     "execution_count": 15,
     "metadata": {},
     "output_type": "execute_result"
    }
   ],
   "source": [
    "df.corr()['Religion']"
   ]
  },
  {
   "cell_type": "code",
   "execution_count": 66,
   "metadata": {
    "collapsed": true
   },
   "outputs": [],
   "source": [
    "f = [\"Family Composition\", \"Sex\", \"Age\", \"Marital Status\",\"Student\", \"Country of Birth\",  \"Ethnic Group\", \"Religion\", \"Economic Activity\", \"Occupation\", \"Industry\", \"Hours worked per week\", \"Approximated Social Grade\"]\n",
    "# f = [\"Family Composition\",  \"Age\", \"Marital Status\",  \"Ethnic Group\", \"Religion\", \"Economic Activity\", \"Occupation\", \"Industry\", \"Hours worked per week\", \"Approximated Social Grade\"]\n",
    "features_one = train[f].values"
   ]
  },
  {
   "cell_type": "code",
   "execution_count": 67,
   "metadata": {},
   "outputs": [
    {
     "name": "stdout",
     "output_type": "stream",
     "text": [
      "[ 0.06670867  0.04001224  0.20020844  0.05647625  0.00342369  0.03019596\n",
      "  0.03084769  0.08020482  0.10472276  0.0995091   0.15823857  0.09787896\n",
      "  0.03157286]\n",
      "0.725166892269\n"
     ]
    }
   ],
   "source": [
    "my_tree_one = tree.DecisionTreeClassifier()\n",
    "my_tree_one = my_tree_one.fit(features_one, target)\n",
    "print(my_tree_one.feature_importances_)\n",
    "print(my_tree_one.score(features_one, target))"
   ]
  },
  {
   "cell_type": "code",
   "execution_count": 68,
   "metadata": {},
   "outputs": [
    {
     "name": "stdout",
     "output_type": "stream",
     "text": [
      "[ 0.06565496  0.03796362  0.21084786  0.05587335  0.00324881  0.02972316\n",
      "  0.03021251  0.07742264  0.10833983  0.09630116  0.1538542   0.09878613\n",
      "  0.03177178]\n",
      "0.709172235664\n"
     ]
    }
   ],
   "source": [
    "features_two = train[f].values\n",
    "max_depth = 40\n",
    "min_samples_split = 3\n",
    "my_tree_two = tree.DecisionTreeClassifier(max_depth = max_depth, min_samples_split = min_samples_split , random_state = 1)\n",
    "my_tree_two = my_tree_two.fit(features_two, target)\n",
    "\n",
    "#Print the score of the new decison tree\n",
    "print(my_tree_two.feature_importances_)\n",
    "print(my_tree_two.score(features_two, target))"
   ]
  },
  {
   "cell_type": "code",
   "execution_count": 32,
   "metadata": {},
   "outputs": [
    {
     "data": {
      "text/plain": [
       "array([2, 1, 1, ..., 4, 1, 1])"
      ]
     },
     "execution_count": 32,
     "metadata": {},
     "output_type": "execute_result"
    }
   ],
   "source": [
    "test_features = train[f].values\n",
    "my_prediction = my_tree_one.predict(test_features)\n",
    "my_prediction\n"
   ]
  },
  {
   "cell_type": "code",
   "execution_count": 70,
   "metadata": {},
   "outputs": [
    {
     "name": "stdout",
     "output_type": "stream",
     "text": [
      "0.725152681112\n",
      "281469\n"
     ]
    }
   ],
   "source": [
    "from sklearn.ensemble import RandomForestClassifier\n",
    "\n",
    "features_forest = train[f].values\n",
    "\n",
    "# Building and fitting my_forest\n",
    "forest = RandomForestClassifier(max_depth = 40, min_samples_split=2, n_estimators = 100, random_state = 1)\n",
    "my_forest = forest.fit(features_forest, target)\n",
    "\n",
    "# Print the score of the fitted random forest\n",
    "print(my_forest.score(features_forest, target))\n",
    "\n",
    "# Compute predictions on our test set features then print the length of the prediction vector\n",
    "test_features = train[f].values\n",
    "pred_forest = my_forest.predict(test_features)\n",
    "print(len(pred_forest))\n"
   ]
  },
  {
   "cell_type": "code",
   "execution_count": 71,
   "metadata": {},
   "outputs": [
    {
     "name": "stdout",
     "output_type": "stream",
     "text": [
      "[ 0.06744891  0.03187731  0.13775193  0.05908634  0.01429704  0.02271025\n",
      "  0.02618796  0.07825101  0.10239061  0.10846653  0.21253187  0.06867913\n",
      "  0.07032112]\n"
     ]
    }
   ],
   "source": [
    "print(forest.feature_importances_)"
   ]
  },
  {
   "cell_type": "code",
   "execution_count": 72,
   "metadata": {},
   "outputs": [
    {
     "data": {
      "text/plain": [
       "Industry                     0.212532\n",
       "Age                          0.137752\n",
       "Occupation                   0.108467\n",
       "Economic Activity            0.102391\n",
       "Religion                     0.078251\n",
       "Approximated Social Grade    0.070321\n",
       "Hours worked per week        0.068679\n",
       "Family Composition           0.067449\n",
       "Marital Status               0.059086\n",
       "Sex                          0.031877\n",
       "Ethnic Group                 0.026188\n",
       "Country of Birth             0.022710\n",
       "Student                      0.014297\n",
       "dtype: float64"
      ]
     },
     "execution_count": 72,
     "metadata": {},
     "output_type": "execute_result"
    }
   ],
   "source": [
    "predictors = f\n",
    "featimp = pd.Series(forest.feature_importances_, index=predictors).sort_values(ascending=False)\n",
    "featimp"
   ]
  },
  {
   "cell_type": "markdown",
   "metadata": {
    "collapsed": true
   },
   "source": [
    "## [Scikit-Learn Tutorial: Baseball Analytics Pt 1](https://www.datacamp.com/community/tutorials/scikit-learn-tutorial-baseball-1)\n",
    "\n"
   ]
  },
  {
   "cell_type": "markdown",
   "metadata": {},
   "source": [
    "### K-means \n",
    "is a simple clustering algorithm that partitions the data based on the number of k centroids(重心) you indicate. Each data point is assigned to a cluster based on which centroid has the lowest Euclidian distance（歐幾里德距離） from the data point.\n"
   ]
  },
  {
   "cell_type": "code",
   "execution_count": 25,
   "metadata": {
    "collapsed": true
   },
   "outputs": [],
   "source": [
    "df_new = pd.read_csv(\"01.2011_Census_Microdata.csv\", index_col = 0)\n",
    "df_new = df_new[df_new['Health'] != -9]\n",
    "df_new = df_new.drop('Residence Type',axis=1)"
   ]
  },
  {
   "cell_type": "code",
   "execution_count": 26,
   "metadata": {
    "collapsed": true
   },
   "outputs": [],
   "source": [
    "attributes = [\"Family Composition\", \"Sex\", \"Age\", \"Marital Status\",\"Student\", \"Country of Birth\",  \"Ethnic Group\", \"Religion\", \"Economic Activity\", \"Occupation\", \"Industry\", \"Hours worked per week\", \"Approximated Social Grade\"]\n",
    "data_attributes = df_new[attributes]"
   ]
  },
  {
   "cell_type": "markdown",
   "metadata": {},
   "source": [
    "使用 k-means 演算法，要指定多少群\n",
    "可以透過 silhouette_score() 來決定大致上要多少群\n",
    "此 function 回傳 the mean silhouette coefficient over all samples."
   ]
  },
  {
   "cell_type": "code",
   "execution_count": 28,
   "metadata": {},
   "outputs": [
    {
     "data": {
      "image/png": "[encoded data removed]",
      "text/plain": [
       "<matplotlib.figure.Figure at 0x10e862990>"
      ]
     },
     "metadata": {},
     "output_type": "display_data"
    }
   ],
   "source": [
    "# Import necessary modules from `sklearn` \n",
    "from sklearn.cluster import KMeans\n",
    "from sklearn import metrics\n",
    "\n",
    "# Create K-means model and determine euclidian distances for each data point\n",
    "kmeans_model = KMeans(n_clusters=4, random_state=1)\n",
    "distances = kmeans_model.fit_transform(data_attributes)\n",
    "\n",
    "# Create scatter plot using labels from K-means model as color\n",
    "labels = kmeans_model.labels_\n",
    "\n",
    "plt.scatter(distances[:,0], distances[:,1], c=labels)\n",
    "plt.title('Kmeans Clusters')\n",
    "\n",
    "plt.show()"
   ]
  },
  {
   "cell_type": "code",
   "execution_count": 30,
   "metadata": {
    "collapsed": true
   },
   "outputs": [],
   "source": [
    "numeric_cols = [\"Family Composition\", \"Sex\", \"Age\", \"Health\",\"Marital Status\",\"Student\", \"Country of Birth\",  \"Ethnic Group\", \"Religion\", \"Economic Activity\", \"Occupation\", \"Industry\", \"Hours worked per week\", \"Approximated Social Grade\"]\n",
    "data = df_new[numeric_cols]\n",
    "train = data.sample(frac=0.75, random_state=1)\n",
    "test = data.loc[~df_new.index.isin(train.index)]\n",
    "\n",
    "x_train = train[attributes]\n",
    "y_train = train['Health']\n",
    "x_test = test[attributes]\n",
    "y_test = test['Health']"
   ]
  },
  {
   "cell_type": "markdown",
   "metadata": {},
   "source": [
    "### Mean Absolute Error (MAE)\n",
    "is the metric you’ll use to determine how accurate your model is.\n",
    "It measures how close the predictions are to the eventual outcomes.衡量預測值與最終結果有多相近 \n",
    "Specifically, for this data, that means that this error metric will provide you with the **average absolute value**（平均絕對的值）  that your prediction missed its mark.\n",
    "This means that if, on average, your predictions miss the target amount by 5 wins, your error metric will be 5."
   ]
  },
  {
   "cell_type": "markdown",
   "metadata": {},
   "source": [
    "### linear regression model"
   ]
  },
  {
   "cell_type": "code",
   "execution_count": 31,
   "metadata": {},
   "outputs": [
    {
     "name": "stdout",
     "output_type": "stream",
     "text": [
      "0.599194142225\n"
     ]
    }
   ],
   "source": [
    "# Import `LinearRegression` from `sklearn.linear_model`\n",
    "from sklearn.linear_model import LinearRegression\n",
    "\n",
    "# Import `mean_absolute_error` from `sklearn.metrics`\n",
    "from sklearn.metrics import mean_absolute_error\n",
    "\n",
    "# Create Linear Regression model, fit model, and make predictions\n",
    "lr = LinearRegression(normalize=True)\n",
    "lr.fit(x_train, y_train)\n",
    "predictions = lr.predict(x_test)\n",
    "\n",
    "# Determine mean absolute error\n",
    "# 原來在測試集的值 與 預測值做 mae\n",
    "mae = mean_absolute_error(y_test, predictions)\n",
    "\n",
    "# Print `mae`\n",
    "print(mae)"
   ]
  },
  {
   "cell_type": "code",
   "execution_count": 32,
   "metadata": {},
   "outputs": [
    {
     "data": {
      "text/plain": [
       "0.30680749327650902"
      ]
     },
     "execution_count": 32,
     "metadata": {},
     "output_type": "execute_result"
    }
   ],
   "source": [
    "lr.score(x_test, y_test)\n"
   ]
  },
  {
   "cell_type": "markdown",
   "metadata": {},
   "source": [
    "### ridge regression model"
   ]
  },
  {
   "cell_type": "code",
   "execution_count": 39,
   "metadata": {},
   "outputs": [
    {
     "name": "stdout",
     "output_type": "stream",
     "text": [
      "0.599793281356\n"
     ]
    }
   ],
   "source": [
    "from sklearn.linear_model import RidgeCV\n",
    "\n",
    "# Create Ridge Linear Regression model, fit model, and make predictions\n",
    "rrm = RidgeCV(alphas=(0.01, 0.1, 1.0, 10.0), normalize=True)\n",
    "rrm.fit(x_train, y_train)\n",
    "predictions_rrm = rrm.predict(x_test)\n",
    "\n",
    "# Determine mean absolute error\n",
    "mae_rrm = mean_absolute_error(y_test, predictions_rrm)\n",
    "print(mae_rrm)"
   ]
  },
  {
   "cell_type": "code",
   "execution_count": null,
   "metadata": {
    "collapsed": true
   },
   "outputs": [],
   "source": []
  }
 ],
 "metadata": {
  "kernelspec": {
   "display_name": "Python 3",
   "language": "python",
   "name": "python3"
  },
  "language_info": {
   "codemirror_mode": {
    "name": "ipython",
    "version": 2
   },
   "file_extension": ".py",
   "mimetype": "text/x-python",
   "name": "python",
   "nbconvert_exporter": "python",
   "pygments_lexer": "ipython2",
   "version": "2.7.13"
  }
 },
 "nbformat": 4,
 "nbformat_minor": 2
}
